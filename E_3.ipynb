{
  "nbformat": 4,
  "nbformat_minor": 0,
  "metadata": {
    "colab": {
      "provenance": [],
      "authorship_tag": "ABX9TyPfZkeblEZaHNspWuSBOjWO",
      "include_colab_link": true
    },
    "kernelspec": {
      "name": "python3",
      "display_name": "Python 3"
    },
    "language_info": {
      "name": "python"
    }
  },
  "cells": [
    {
      "cell_type": "markdown",
      "metadata": {
        "id": "view-in-github",
        "colab_type": "text"
      },
      "source": [
        "<a href=\"https://colab.research.google.com/github/neilchattopadhyay123/AutoTag/blob/master/E_3.ipynb\" target=\"_parent\"><img src=\"https://colab.research.google.com/assets/colab-badge.svg\" alt=\"Open In Colab\"/></a>"
      ]
    },
    {
      "cell_type": "code",
      "execution_count": null,
      "metadata": {
        "colab": {
          "base_uri": "https://localhost:8080/"
        },
        "id": "TU9b0ZhcZX5v",
        "outputId": "83d3d332-d7b3-46ff-f2a8-e2cf4d979087"
      },
      "outputs": [
        {
          "output_type": "stream",
          "name": "stdout",
          "text": [
            "func2\n",
            "func1\n",
            "func1\n",
            "func3\n",
            "func1\n",
            "func2\n",
            "func1\n",
            "func1\n",
            "func2\n",
            "func1\n",
            "func1\n",
            "func1\n",
            "func2\n",
            "func1\n",
            "func1\n",
            "Recursing Lower\n",
            "Recursing Upper\n",
            "Recursing Lower\n",
            "Not Found\n",
            "Recursing Upper\n",
            "Recursing Upper\n",
            "Found\n",
            "Value 1.8\n",
            "Recursions 7\n"
          ]
        }
      ],
      "source": [
        "def func1():\n",
        "  print(\"func1\")\n",
        "\n",
        "def func2():\n",
        "  print(\"func2\")\n",
        "  func1()\n",
        "  func1()\n",
        "\n",
        "def func3():\n",
        "  print(\"func3\")\n",
        "  func1()\n",
        "  func2()\n",
        "  func2()\n",
        "\n",
        "def complex_call():\n",
        "  func2()\n",
        "  func3()\n",
        "  func1()\n",
        "  func2()\n",
        "  # 1.B At the deepest stack level, the function called is func1\n",
        "\n",
        "\n",
        "def bsearch_helper(lst, q, start, stop):\n",
        "  if start > stop: # exit condition, q is not in list\n",
        "    print(\"Not Found\")\n",
        "    return -1\n",
        "\n",
        "  pivot = start + (stop - start) // 2\n",
        "\n",
        "  if lst[pivot] == q:\n",
        "    print(\"Found\")\n",
        "    return pivot # we found it!\n",
        "  elif lst[pivot] < q:\n",
        "    print(\"Recursing Upper\")\n",
        "    return bsearch_helper(lst, q, pivot + 1, stop) # search the upper partition\n",
        "  else: # i.e., lst[pivot] > q\n",
        "    print(\"Recursing Lower\")\n",
        "    return bsearch_helper(lst, q, start, pivot - 1) # search the lower partition\n",
        "\n",
        "def bsearch(lst, q):\n",
        "  return bsearch_helper(lst, q, 0, len(lst) - 1)\n",
        "\n",
        "def harmonic_helper(n):\n",
        "  result = [1, 0]\n",
        "  if n <=0:\n",
        "    return result\n",
        "  elif n % 2 == 0:\n",
        "    even_result = harmonic_helper(n-5)\n",
        "    result[0] = n + even_result[0]\n",
        "    result[1] = 1 + even_result[1]\n",
        "    return result\n",
        "  elif n % 2 == 1:\n",
        "    top_result = harmonic_helper(n+1)\n",
        "    bottom_result = harmonic_helper(n-1)\n",
        "    result[0] = top_result[0] / bottom_result[0]\n",
        "    result[1] = 2 + top_result[1] + bottom_result[1]\n",
        "    return result\n",
        "\n",
        "def harmonic(n):\n",
        "  result = harmonic_helper(n)\n",
        "  print(\"Value\", result[0])\n",
        "  print(\"Recursions\", result[1])\n",
        "\n",
        "def main():\n",
        "  complex_call()\n",
        "  nums = [1,4,6,7,8,12,15,27,28,29]\n",
        "  bsearch(nums, 5)\n",
        "  bsearch(nums, 28)\n",
        "  harmonic(5)\n",
        "\n",
        "if __name__ == \"__main__\":\n",
        "  main()\n"
      ]
    }
  ]
}